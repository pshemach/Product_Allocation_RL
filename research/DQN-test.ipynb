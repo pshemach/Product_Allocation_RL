{
 "cells": [
  {
   "cell_type": "code",
   "execution_count": 2,
   "metadata": {},
   "outputs": [],
   "source": [
    "import torch\n",
    "import torch.nn as nn\n",
    "import torch.nn.functional as F\n",
    "import torch.optim as optim\n",
    "import numpy as np"
   ]
  },
  {
   "cell_type": "code",
   "execution_count": 3,
   "metadata": {},
   "outputs": [],
   "source": [
    "class DeepQNetwork(nn.Module):\n",
    "    def __init__(self, ALPHA):\n",
    "        super(DeepQNetwork, self).__init__()\n",
    "        self.conv1 = nn.Conv2d(1, 31, kernel_size=8, stride=4, padding=1)\n",
    "        self.conv2 = nn.Conv2d(32, 64, kernel_size=4, stride=2)\n",
    "        self.conv3 = nn.Conv2d(64, 128, 3)\n",
    "        self.fc1 = nn.Linear(128 * 19 * 8, 512)\n",
    "        self.fc2 = nn.Linear(512, 6)\n",
    "        \n",
    "        self.optimizer = optim.RMSprop(self.parameters(), lr = ALPHA)\n",
    "        self.loss = nn.MSELoss()\n",
    "        self.device = torch.device('cuda:0' if torch.cuda.is_available() else 'cpu')\n",
    "        \n",
    "    def forward(self, observation):\n",
    "        observation = torch.Tensor(observation).to(self.device)\n",
    "        observation = observation.view(-1, 1, 185, 95)\n",
    "        observation = torch.relu(self.conv1(observation))\n",
    "        observation = torch.relu(self.conv2(observation))\n",
    "        observation = torch.relu(self.conv3(observation))\n",
    "        \n",
    "        observation = observation.view(-1, 128*19*8)\n",
    "        observation = torch.relu(self.fc1(observation))\n",
    "        action = self.fc2(observation)\n",
    "        \n",
    "        return action   \n",
    "        \n",
    "        "
   ]
  },
  {
   "cell_type": "code",
   "execution_count": null,
   "metadata": {},
   "outputs": [],
   "source": [
    "class Agent(object):\n",
    "    def __init__(self, ALPHA, GAMMA, EPSILON, EPSILON_DECAY,\n",
    "                 MAX_MEMORY_SIZE, EPSILON_END = 0.5,REPLACE = 1000,\n",
    "                 ACTION_SPACE = [0,1,2,3,4,5]):\n",
    "        self.ALPHA = ALPHA\n",
    "        self.GAMMA = GAMMA\n",
    "        self.EPSILON = EPSILON\n",
    "        self.EPSILON_DECAY = EPSILON_DECAY\n",
    "        \n",
    "        "
   ]
  }
 ],
 "metadata": {
  "kernelspec": {
   "display_name": ".venv",
   "language": "python",
   "name": "python3"
  },
  "language_info": {
   "codemirror_mode": {
    "name": "ipython",
    "version": 3
   },
   "file_extension": ".py",
   "mimetype": "text/x-python",
   "name": "python",
   "nbconvert_exporter": "python",
   "pygments_lexer": "ipython3",
   "version": "3.11.5"
  }
 },
 "nbformat": 4,
 "nbformat_minor": 2
}
